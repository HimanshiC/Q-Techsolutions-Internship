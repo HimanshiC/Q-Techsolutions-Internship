{
 "cells": [
  {
   "cell_type": "raw",
   "id": "d93df6ff-a916-46dc-84a3-656e9385e8dc",
   "metadata": {},
   "source": [
    "1.Data Cleaning on Retail Dataset\n",
    "Input: CSV file with columns (OrderID, ProductName, Price, Quantity, Total,\n",
    "OrderDate)\n",
    "Output: Cleaned dataset with missing values filled and outliers removed.\n",
    "Details: Handle missing data, standardize column formats, remove duplicates, and\n",
    "identify outliers."
   ]
  },
  {
   "cell_type": "code",
   "execution_count": 1,
   "id": "97eefc6b-7148-4841-919f-7cf8f484160d",
   "metadata": {},
   "outputs": [
    {
     "name": "stdout",
     "output_type": "stream",
     "text": [
      "C:\\Users\\Himanshi\\QtechsolutionsInternProjects\\RetailDatasetCleaning\n"
     ]
    }
   ],
   "source": [
    "import os\n",
    "print(os.getcwd())  # Outputs the current working directory\n"
   ]
  },
  {
   "cell_type": "code",
   "execution_count": 2,
   "id": "7b7b7cbb-33c0-4d12-98a7-34cccbea27b9",
   "metadata": {},
   "outputs": [
    {
     "name": "stdout",
     "output_type": "stream",
     "text": [
      "   Transaction ID        Date Customer ID  Gender  Age Product Category  \\\n",
      "0               1  2023-11-24     CUST001    Male   34           Beauty   \n",
      "1               2  2023-02-27     CUST002  Female   26         Clothing   \n",
      "2               3  2023-01-13     CUST003    Male   50      Electronics   \n",
      "3               4  2023-05-21     CUST004    Male   37         Clothing   \n",
      "4               5  2023-05-06     CUST005    Male   30           Beauty   \n",
      "\n",
      "   Quantity  Price per Unit  Total Amount  \n",
      "0         3              50           150  \n",
      "1         2             500          1000  \n",
      "2         1              30            30  \n",
      "3         1             500           500  \n",
      "4         2              50           100  \n",
      "<class 'pandas.core.frame.DataFrame'>\n",
      "RangeIndex: 1000 entries, 0 to 999\n",
      "Data columns (total 9 columns):\n",
      " #   Column            Non-Null Count  Dtype \n",
      "---  ------            --------------  ----- \n",
      " 0   Transaction ID    1000 non-null   int64 \n",
      " 1   Date              1000 non-null   object\n",
      " 2   Customer ID       1000 non-null   object\n",
      " 3   Gender            1000 non-null   object\n",
      " 4   Age               1000 non-null   int64 \n",
      " 5   Product Category  1000 non-null   object\n",
      " 6   Quantity          1000 non-null   int64 \n",
      " 7   Price per Unit    1000 non-null   int64 \n",
      " 8   Total Amount      1000 non-null   int64 \n",
      "dtypes: int64(5), object(4)\n",
      "memory usage: 70.4+ KB\n",
      "None\n",
      "       Transaction ID         Age     Quantity  Price per Unit  Total Amount\n",
      "count     1000.000000  1000.00000  1000.000000     1000.000000   1000.000000\n",
      "mean       500.500000    41.39200     2.514000      179.890000    456.000000\n",
      "std        288.819436    13.68143     1.132734      189.681356    559.997632\n",
      "min          1.000000    18.00000     1.000000       25.000000     25.000000\n",
      "25%        250.750000    29.00000     1.000000       30.000000     60.000000\n",
      "50%        500.500000    42.00000     3.000000       50.000000    135.000000\n",
      "75%        750.250000    53.00000     4.000000      300.000000    900.000000\n",
      "max       1000.000000    64.00000     4.000000      500.000000   2000.000000\n"
     ]
    }
   ],
   "source": [
    "import pandas as pd\n",
    "\n",
    "#file_path='QtechsolutionsInternProjects/RetailDatasetCleaning/retail_sales_dataset.csv'\n",
    "#df = pd.read_csv(file_path)\n",
    "#load the data into the dataframe for panda processing\n",
    "ogdf = pd.read_csv(\"retail_sales_dataset.csv\")\n",
    "\n",
    "# Preview the data\n",
    "print(ogdf.head())\n",
    "print(ogdf.info())\n",
    "print(ogdf.describe())  "
   ]
  },
  {
   "cell_type": "code",
   "execution_count": 3,
   "id": "53785a08-e864-4aff-ba8e-abbc024171ee",
   "metadata": {},
   "outputs": [],
   "source": [
    "df=ogdf.copy() #create a copy of the data set to perform operations upon"
   ]
  },
  {
   "cell_type": "code",
   "execution_count": 4,
   "id": "574a2466-0bb8-4c5f-be63-5bd11152b327",
   "metadata": {},
   "outputs": [
    {
     "name": "stdout",
     "output_type": "stream",
     "text": [
      "Transaction ID      0\n",
      "Date                0\n",
      "Customer ID         0\n",
      "Gender              0\n",
      "Age                 0\n",
      "Product Category    0\n",
      "Quantity            0\n",
      "Price per Unit      0\n",
      "Total Amount        0\n",
      "dtype: int64\n"
     ]
    }
   ],
   "source": [
    "print(df.isnull().sum())  # Count of missing values in each column"
   ]
  },
  {
   "cell_type": "code",
   "execution_count": 5,
   "id": "d1bbb8ae-0c1b-428e-9089-3c9144857f69",
   "metadata": {},
   "outputs": [],
   "source": [
    "#introducing messiness to the data set\n",
    "\n",
    "import numpy as np\n",
    "df['Age'] = df['Age'].mask(np.random.random(df['Age'].shape) < 0.1)\n",
    "df = pd.concat([df, df.iloc[0:3]], ignore_index=True)\n",
    "df['Date'] = df['Date'].astype(str)\n",
    "df['Date'] = df['Date'].replace(['2021-12-01', '01/12/2021'], ['12-01-2021', '12/01/2021'])\n",
    "df.loc[df.sample(frac=0.05, random_state=42).index, 'Date'] = '2023/31/12'\n",
    "df.loc[df.sample(frac=0.05, random_state=24).index, 'Date'] = 'December 25, 2023'\n",
    "df.loc[10, 'Price per Unit'] = 99999\n",
    "df.loc[20, 'Quantity'] = 10000 \n",
    "df.loc[14, 'Date'] = np.nan \n",
    "df.loc[34, 'Date'] = np.nan\n",
    "df.loc[224, 'Date'] = np.nan\n",
    "df.loc[344, 'Date'] = np.nan\n",
    "df.loc[214, 'Date'] = np.nan\n",
    "df['Price per Unit'] = df['Price per Unit'].mask(np.random.random(df['Price per Unit'].shape) < 0.1)\n",
    "df['Quantity'] = df['Quantity'].mask(np.random.random(df['Quantity'].shape) < 0.05)\n",
    "df.loc[df.sample(frac=0.1, random_state=42).index, 'Price per Unit'] = np.nan\n",
    "df.loc[df.sample(frac=0.1, random_state=24).index, 'Quantity'] = np.nan\n",
    "df.loc[df.sample(frac=0.05, random_state=15).index, 'Date'] = np.nan\n",
    "duplicates = df.sample(n=5, random_state=42)\n",
    "df = pd.concat([df, duplicates], ignore_index=True)\n",
    "df.loc[df.sample(n=3, random_state=42).index, 'Price per Unit'] = 99999\n",
    "df.loc[df.sample(n=3, random_state=24).index, 'Quantity'] = 10000\n",
    "n_rows = df.shape[0]"
   ]
  },
  {
   "cell_type": "code",
   "execution_count": 6,
   "id": "d46acde6-e3f2-4fc7-8178-dc807afbba1a",
   "metadata": {},
   "outputs": [
    {
     "name": "stdout",
     "output_type": "stream",
     "text": [
      "Transaction ID        0\n",
      "Date                 55\n",
      "Customer ID           0\n",
      "Gender                0\n",
      "Age                 102\n",
      "Product Category      0\n",
      "Quantity            145\n",
      "Price per Unit      198\n",
      "Total Amount          0\n",
      "dtype: int64\n"
     ]
    }
   ],
   "source": [
    "print(df.isnull().sum())"
   ]
  },
  {
   "cell_type": "code",
   "execution_count": 7,
   "id": "a1275598-9758-43b5-bee2-c4e050adeb13",
   "metadata": {},
   "outputs": [],
   "source": [
    "#df = df.drop(['Price_per_Unit', 'ProductName', 'OrderDate','Price','Price per unit'], axis=1)"
   ]
  },
  {
   "cell_type": "code",
   "execution_count": 8,
   "id": "f17f3e44-c90f-4a07-9691-e67276d5dc03",
   "metadata": {},
   "outputs": [
    {
     "name": "stdout",
     "output_type": "stream",
     "text": [
      "       Transaction ID         Age      Quantity  Price per Unit  Total Amount\n",
      "count     1008.000000  906.000000    863.000000      810.000000   1008.000000\n",
      "mean       499.496032   41.124724     48.858633      551.786420    454.766865\n",
      "std        289.247169   13.639920    679.451817     6070.163533    558.951592\n",
      "min          1.000000   18.000000      1.000000       25.000000     25.000000\n",
      "25%        249.750000   29.000000      2.000000       30.000000     60.000000\n",
      "50%        500.500000   42.000000      3.000000       50.000000    120.000000\n",
      "75%        749.250000   53.000000      4.000000      300.000000    900.000000\n",
      "max       1000.000000   64.000000  10000.000000    99999.000000   2000.000000\n",
      "Unique values\n",
      " Transaction ID      1000\n",
      "Date                 334\n",
      "Customer ID         1000\n",
      "Gender                 2\n",
      "Age                   47\n",
      "Product Category       3\n",
      "Quantity               5\n",
      "Price per Unit         6\n",
      "Total Amount          18\n",
      "dtype: int64\n",
      "Total entries\n",
      " Transaction ID      1008\n",
      "Date                 953\n",
      "Customer ID         1008\n",
      "Gender              1008\n",
      "Age                  906\n",
      "Product Category    1008\n",
      "Quantity             863\n",
      "Price per Unit       810\n",
      "Total Amount        1008\n",
      "dtype: int64\n",
      "Null values\n",
      " Transaction ID        0\n",
      "Date                 55\n",
      "Customer ID           0\n",
      "Gender                0\n",
      "Age                 102\n",
      "Product Category      0\n",
      "Quantity            145\n",
      "Price per Unit      198\n",
      "Total Amount          0\n",
      "dtype: int64\n",
      "(1008, 9)\n",
      "Index(['Transaction ID', 'Date', 'Customer ID', 'Gender', 'Age',\n",
      "       'Product Category', 'Quantity', 'Price per Unit', 'Total Amount'],\n",
      "      dtype='object')\n",
      "The datatypes are \n",
      " Transaction ID        int64\n",
      "Date                 object\n",
      "Customer ID          object\n",
      "Gender               object\n",
      "Age                 float64\n",
      "Product Category     object\n",
      "Quantity            float64\n",
      "Price per Unit      float64\n",
      "Total Amount          int64\n",
      "dtype: object\n",
      "The number of duplicates is \n",
      " 8\n"
     ]
    }
   ],
   "source": [
    "print(df.describe())\n",
    "print(\"Unique values\\n\",df.nunique())\n",
    "print(\"Total entries\\n\",df.count())\n",
    "print(\"Null values\\n\",df.isnull().sum())\n",
    "print(df.shape)\n",
    "print(df.columns)\n",
    "print(\"The datatypes are \\n\",df.dtypes)\n",
    "print(\"The number of duplicates is \\n\",df.duplicated().sum())"
   ]
  },
  {
   "cell_type": "code",
   "execution_count": 9,
   "id": "907d165d-ec39-4e9a-a727-200918dec1d2",
   "metadata": {},
   "outputs": [
    {
     "data": {
      "text/plain": [
       "Index(['Transaction ID', 'Date', 'Customer ID', 'Gender', 'Age',\n",
       "       'Product Category', 'Quantity', 'Price per Unit', 'Total Amount'],\n",
       "      dtype='object')"
      ]
     },
     "execution_count": 9,
     "metadata": {},
     "output_type": "execute_result"
    }
   ],
   "source": [
    "df.columns"
   ]
  },
  {
   "cell_type": "code",
   "execution_count": 10,
   "id": "6277feb0-329c-4728-8caf-e7e3a599f419",
   "metadata": {},
   "outputs": [
    {
     "data": {
      "text/plain": [
       "Index(['Transaction ID', 'OrderDate', 'Customer ID', 'Gender', 'Age',\n",
       "       'Product Category', 'Quantity', 'Price', 'Total'],\n",
       "      dtype='object')"
      ]
     },
     "execution_count": 10,
     "metadata": {},
     "output_type": "execute_result"
    }
   ],
   "source": [
    "df.rename(columns={\n",
    "    'Price per Unit': 'Price_Per_Unit',\n",
    "    'Total Amount': 'Total_Amount',\n",
    "    'Date':'OrderID','Price per Unit':'Price', 'Total Amount':'Total',\n",
    "'Date':'OrderDate'\n",
    "}, inplace=True)\n",
    "df.columns"
   ]
  },
  {
   "cell_type": "raw",
   "id": "a79bbc9d-0fe0-4265-8bbc-db11065c833e",
   "metadata": {},
   "source": [
    "The dataset is now loaded and the inconsistensies in it are now detected."
   ]
  },
  {
   "cell_type": "raw",
   "id": "05898434-1d66-438c-9656-098014a7d2df",
   "metadata": {},
   "source": [
    "TASK 1:-Missing values"
   ]
  },
  {
   "cell_type": "code",
   "execution_count": 11,
   "id": "7da8c544-da13-4d25-a9e0-836ef33e7752",
   "metadata": {},
   "outputs": [
    {
     "name": "stdout",
     "output_type": "stream",
     "text": [
      "The null values are\n",
      " Transaction ID        0\n",
      "OrderDate            55\n",
      "Customer ID           0\n",
      "Gender                0\n",
      "Age                 102\n",
      "Product Category      0\n",
      "Quantity            145\n",
      "Price               198\n",
      "Total                 0\n",
      "dtype: int64\n",
      "The number of duplicate values are 8\n"
     ]
    }
   ],
   "source": [
    "print(\"The null values are\\n\",df.isnull().sum())\n",
    "df.dtypes\n",
    "print(\"The number of duplicate values are\",df.duplicated().sum())"
   ]
  },
  {
   "cell_type": "raw",
   "id": "0819e7e4-f1f2-4ec3-9b64-27ba90928728",
   "metadata": {},
   "source": [
    "Heatmap to visualize where the values are missing in the dataset"
   ]
  },
  {
   "cell_type": "code",
   "execution_count": 12,
   "id": "da392fda-adea-4364-81e0-230b681c4509",
   "metadata": {},
   "outputs": [
    {
     "data": {
      "image/png": "[encoded data removed]",
      "text/plain": [
       "<Figure size 640x480 with 1 Axes>"
      ]
     },
     "metadata": {},
     "output_type": "display_data"
    }
   ],
   "source": [
    "import seaborn as sns\n",
    "import matplotlib.pyplot as plt\n",
    "sns.heatmap(df.isnull(), cbar=False, cmap='viridis')\n",
    "plt.show()\n"
   ]
  },
  {
   "cell_type": "code",
   "execution_count": 13,
   "id": "3eeb7817-94c7-4fe8-829a-86c8354c01e9",
   "metadata": {},
   "outputs": [
    {
     "data": {
      "image/png": "[encoded data removed]",
      "text/plain": [
       "<Figure size 1000x400 with 1 Axes>"
      ]
     },
     "metadata": {},
     "output_type": "display_data"
    }
   ],
   "source": [
    "plt.figure(figsize=(10, 4))\n",
    "sns.boxplot(x='Gender', y='Age', data=df)\n",
    "plt.title('Age Distribution by Gender')\n",
    "plt.show()\n"
   ]
  },
  {
   "cell_type": "code",
   "execution_count": 14,
   "id": "caceb126-510e-43f6-ace2-96abfd727716",
   "metadata": {},
   "outputs": [],
   "source": [
    "df['Age'] = df.groupby('Gender')['Age'].transform(\n",
    "        lambda x: x.fillna(x.median())\n",
    "    )"
   ]
  },
  {
   "cell_type": "code",
   "execution_count": 15,
   "id": "c99840c7-26bc-44f0-925c-ba6049886d1c",
   "metadata": {
    "scrolled": true
   },
   "outputs": [
    {
     "name": "stdout",
     "output_type": "stream",
     "text": [
      "The null values are\n",
      " Transaction ID        0\n",
      "OrderDate            55\n",
      "Customer ID           0\n",
      "Gender                0\n",
      "Age                   0\n",
      "Product Category      0\n",
      "Quantity            145\n",
      "Price               198\n",
      "Total                 0\n",
      "dtype: int64\n"
     ]
    }
   ],
   "source": [
    "print(\"The null values are\\n\",df.isnull().sum())"
   ]
  },
  {
   "cell_type": "code",
   "execution_count": 16,
   "id": "3efcdef6-4887-4f66-836e-c5be5d5e4c27",
   "metadata": {},
   "outputs": [],
   "source": [
    "df['OrderDate']=df['OrderDate'].fillna(df['OrderDate'].mode()[0])"
   ]
  },
  {
   "cell_type": "code",
   "execution_count": 17,
   "id": "41abd510-79fb-47fe-a9ab-ad68cd97ac71",
   "metadata": {},
   "outputs": [
    {
     "name": "stdout",
     "output_type": "stream",
     "text": [
      "The null values are\n",
      " Transaction ID        0\n",
      "OrderDate             0\n",
      "Customer ID           0\n",
      "Gender                0\n",
      "Age                   0\n",
      "Product Category      0\n",
      "Quantity            145\n",
      "Price               198\n",
      "Total                 0\n",
      "dtype: int64\n"
     ]
    }
   ],
   "source": [
    "print(\"The null values are\\n\",df.isnull().sum())"
   ]
  },
  {
   "cell_type": "code",
   "execution_count": 18,
   "id": "4e73d6d9-31ce-4edc-914d-6eb415c99c23",
   "metadata": {},
   "outputs": [
    {
     "name": "stdout",
     "output_type": "stream",
     "text": [
      "Transaction ID      0\n",
      "OrderDate           0\n",
      "Customer ID         0\n",
      "Gender              0\n",
      "Age                 0\n",
      "Product Category    0\n",
      "Quantity            0\n",
      "Price               0\n",
      "Total               0\n",
      "dtype: int64\n"
     ]
    }
   ],
   "source": [
    "# Fill missing 'Quantity' with Total / Price (only where Price is available)\n",
    "df['Quantity'] = df['Quantity'].fillna(df['Total'] / df['Price'])\n",
    "# Fill missing 'Price' with Total / Quantity (only where Quantity is available)\n",
    "df['Price'] = df['Price'].fillna(df['Total'] / df['Quantity'])\n",
    "\n",
    "# If both 'Quantity' and 'Price' are missing, fill them with median values\n",
    "df['Quantity'] = df['Quantity'].fillna(df['Quantity'].median())\n",
    "df['Price'] = df['Price'].fillna(df['Price'].median())\n",
    "\n",
    "print(df.isnull().sum())"
   ]
  },
  {
   "cell_type": "raw",
   "id": "8cf62993-b84f-4b13-8318-14c7ed7e8633",
   "metadata": {},
   "source": [
    "Now all the missing values have been handled. This indicates completion of Task 1"
   ]
  },
  {
   "cell_type": "raw",
   "id": "7b0af74f-1cec-4d36-8982-58fdedfc185a",
   "metadata": {},
   "source": [
    "Task 2-remove duplicates"
   ]
  },
  {
   "cell_type": "code",
   "execution_count": 19,
   "id": "417cc024-edee-4eb2-8a91-2af97c72fde1",
   "metadata": {},
   "outputs": [
    {
     "name": "stdout",
     "output_type": "stream",
     "text": [
      "The number of duplicate values are 8\n"
     ]
    }
   ],
   "source": [
    "print(\"The number of duplicate values are\",df.duplicated().sum())"
   ]
  },
  {
   "cell_type": "code",
   "execution_count": 20,
   "id": "b8960aa6-718e-4866-9890-2af06e9b9e9a",
   "metadata": {},
   "outputs": [],
   "source": [
    "df = df.drop_duplicates()"
   ]
  },
  {
   "cell_type": "code",
   "execution_count": 21,
   "id": "3e8485e1-1b66-4e00-b371-ff27a0fe7922",
   "metadata": {},
   "outputs": [
    {
     "name": "stdout",
     "output_type": "stream",
     "text": [
      "The number of duplicate values are 0\n"
     ]
    }
   ],
   "source": [
    "print(\"The number of duplicate values are\",df.duplicated().sum())"
   ]
  },
  {
   "cell_type": "raw",
   "id": "94c9b743-6362-4457-adba-af7f145d2919",
   "metadata": {},
   "source": [
    "Task 3- Handling Outliers"
   ]
  },
  {
   "cell_type": "code",
   "execution_count": 22,
   "id": "0ea67e24-d846-4599-bed6-3552d40f30da",
   "metadata": {},
   "outputs": [
    {
     "data": {
      "image/png": "[encoded data removed]",
      "text/plain": [
       "<Figure size 1800x600 with 3 Axes>"
      ]
     },
     "metadata": {},
     "output_type": "display_data"
    }
   ],
   "source": [
    "plt.figure(figsize=(18, 6))\n",
    "\n",
    "plt.subplot(1, 3, 1)\n",
    "sns.boxplot(x=df['Price'], color='skyblue')\n",
    "plt.title('Price Outliers')\n",
    "\n",
    "plt.subplot(1, 3, 2)\n",
    "sns.boxplot(x=df['Quantity'], color='lightgreen')\n",
    "plt.title('Quantity Outliers')\n",
    "\n",
    "plt.subplot(1, 3, 3)\n",
    "sns.boxplot(x=df['Total'], color='salmon')\n",
    "plt.title('Total Amount Outliers')\n",
    "\n",
    "plt.tight_layout()\n",
    "plt.show()"
   ]
  },
  {
   "cell_type": "code",
   "execution_count": 23,
   "id": "914282df-8002-490a-a71b-725f2c330994",
   "metadata": {},
   "outputs": [
    {
     "name": "stdout",
     "output_type": "stream",
     "text": [
      "The outliers are\n",
      "      Transaction ID   OrderDate Customer ID  Gender   Age Product Category  \\\n",
      "20               21  2023-01-14     CUST021  Female  50.0           Beauty   \n",
      "169             170  2023-06-02     CUST170  Female  25.0         Clothing   \n",
      "226             227  2023-10-11     CUST227    Male  36.0      Electronics   \n",
      "602             603  2023-07-16     CUST603  Female  42.0         Clothing   \n",
      "630             631  2023-11-10     CUST631    Male  56.0      Electronics   \n",
      "682             683  2023-01-04     CUST683    Male  38.0           Beauty   \n",
      "938             939  2023-12-18     CUST939  Female  46.0      Electronics   \n",
      "\n",
      "     Quantity    Price  Total  \n",
      "20    10000.0    500.0    500  \n",
      "169   10000.0     25.0     50  \n",
      "226   10000.0     50.0    100  \n",
      "602   10000.0     30.0     90  \n",
      "630       3.0  99999.0     90  \n",
      "682       2.0  99999.0   1000  \n",
      "938       1.0  99999.0    300  \n"
     ]
    }
   ],
   "source": [
    "from scipy import stats\n",
    "#Z-score tests for handling outliers\n",
    "z_scores = np.abs(stats.zscore(df[['Price', 'Quantity', 'Total']]))\n",
    "outliers = (z_scores > 3)\n",
    "\n",
    "print(\"The outliers are\\n\",df[outliers.any(axis=1)])\n",
    "dfnew = df[(z_scores < 3).all(axis=1)]"
   ]
  },
  {
   "cell_type": "code",
   "execution_count": 24,
   "id": "1e1910f5-ea42-4fde-9e09-3c6c2d2f6485",
   "metadata": {},
   "outputs": [
    {
     "data": {
      "text/html": [
       "<div>\n",
       "<style scoped>\n",
       "    .dataframe tbody tr th:only-of-type {\n",
       "        vertical-align: middle;\n",
       "    }\n",
       "\n",
       "    .dataframe tbody tr th {\n",
       "        vertical-align: top;\n",
       "    }\n",
       "\n",
       "    .dataframe thead th {\n",
       "        text-align: right;\n",
       "    }\n",
       "</style>\n",
       "<table border=\"1\" class=\"dataframe\">\n",
       "  <thead>\n",
       "    <tr style=\"text-align: right;\">\n",
       "      <th></th>\n",
       "      <th>Transaction ID</th>\n",
       "      <th>OrderDate</th>\n",
       "      <th>Customer ID</th>\n",
       "      <th>Gender</th>\n",
       "      <th>Age</th>\n",
       "      <th>Product Category</th>\n",
       "      <th>Quantity</th>\n",
       "      <th>Price</th>\n",
       "      <th>Total</th>\n",
       "    </tr>\n",
       "  </thead>\n",
       "  <tbody>\n",
       "    <tr>\n",
       "      <th>0</th>\n",
       "      <td>1</td>\n",
       "      <td>2023-11-24</td>\n",
       "      <td>CUST001</td>\n",
       "      <td>Male</td>\n",
       "      <td>34.0</td>\n",
       "      <td>Beauty</td>\n",
       "      <td>3.0</td>\n",
       "      <td>50.0</td>\n",
       "      <td>150</td>\n",
       "    </tr>\n",
       "    <tr>\n",
       "      <th>1</th>\n",
       "      <td>2</td>\n",
       "      <td>2023-02-27</td>\n",
       "      <td>CUST002</td>\n",
       "      <td>Female</td>\n",
       "      <td>26.0</td>\n",
       "      <td>Clothing</td>\n",
       "      <td>2.0</td>\n",
       "      <td>500.0</td>\n",
       "      <td>1000</td>\n",
       "    </tr>\n",
       "    <tr>\n",
       "      <th>2</th>\n",
       "      <td>3</td>\n",
       "      <td>2023-01-13</td>\n",
       "      <td>CUST003</td>\n",
       "      <td>Male</td>\n",
       "      <td>50.0</td>\n",
       "      <td>Electronics</td>\n",
       "      <td>1.0</td>\n",
       "      <td>30.0</td>\n",
       "      <td>30</td>\n",
       "    </tr>\n",
       "    <tr>\n",
       "      <th>3</th>\n",
       "      <td>4</td>\n",
       "      <td>December 25, 2023</td>\n",
       "      <td>CUST004</td>\n",
       "      <td>Male</td>\n",
       "      <td>37.0</td>\n",
       "      <td>Clothing</td>\n",
       "      <td>1.0</td>\n",
       "      <td>500.0</td>\n",
       "      <td>500</td>\n",
       "    </tr>\n",
       "    <tr>\n",
       "      <th>4</th>\n",
       "      <td>5</td>\n",
       "      <td>2023-05-06</td>\n",
       "      <td>CUST005</td>\n",
       "      <td>Male</td>\n",
       "      <td>30.0</td>\n",
       "      <td>Beauty</td>\n",
       "      <td>2.0</td>\n",
       "      <td>50.0</td>\n",
       "      <td>100</td>\n",
       "    </tr>\n",
       "    <tr>\n",
       "      <th>...</th>\n",
       "      <td>...</td>\n",
       "      <td>...</td>\n",
       "      <td>...</td>\n",
       "      <td>...</td>\n",
       "      <td>...</td>\n",
       "      <td>...</td>\n",
       "      <td>...</td>\n",
       "      <td>...</td>\n",
       "      <td>...</td>\n",
       "    </tr>\n",
       "    <tr>\n",
       "      <th>995</th>\n",
       "      <td>996</td>\n",
       "      <td>2023-05-16</td>\n",
       "      <td>CUST996</td>\n",
       "      <td>Male</td>\n",
       "      <td>62.0</td>\n",
       "      <td>Clothing</td>\n",
       "      <td>1.0</td>\n",
       "      <td>50.0</td>\n",
       "      <td>50</td>\n",
       "    </tr>\n",
       "    <tr>\n",
       "      <th>996</th>\n",
       "      <td>997</td>\n",
       "      <td>2023-11-17</td>\n",
       "      <td>CUST997</td>\n",
       "      <td>Male</td>\n",
       "      <td>52.0</td>\n",
       "      <td>Beauty</td>\n",
       "      <td>3.0</td>\n",
       "      <td>30.0</td>\n",
       "      <td>90</td>\n",
       "    </tr>\n",
       "    <tr>\n",
       "      <th>997</th>\n",
       "      <td>998</td>\n",
       "      <td>2023-10-29</td>\n",
       "      <td>CUST998</td>\n",
       "      <td>Female</td>\n",
       "      <td>23.0</td>\n",
       "      <td>Beauty</td>\n",
       "      <td>4.0</td>\n",
       "      <td>25.0</td>\n",
       "      <td>100</td>\n",
       "    </tr>\n",
       "    <tr>\n",
       "      <th>998</th>\n",
       "      <td>999</td>\n",
       "      <td>2023-12-05</td>\n",
       "      <td>CUST999</td>\n",
       "      <td>Female</td>\n",
       "      <td>36.0</td>\n",
       "      <td>Electronics</td>\n",
       "      <td>3.0</td>\n",
       "      <td>50.0</td>\n",
       "      <td>150</td>\n",
       "    </tr>\n",
       "    <tr>\n",
       "      <th>999</th>\n",
       "      <td>1000</td>\n",
       "      <td>2023-04-12</td>\n",
       "      <td>CUST1000</td>\n",
       "      <td>Male</td>\n",
       "      <td>47.0</td>\n",
       "      <td>Electronics</td>\n",
       "      <td>4.0</td>\n",
       "      <td>30.0</td>\n",
       "      <td>120</td>\n",
       "    </tr>\n",
       "  </tbody>\n",
       "</table>\n",
       "<p>993 rows × 9 columns</p>\n",
       "</div>"
      ],
      "text/plain": [
       "     Transaction ID          OrderDate Customer ID  Gender   Age  \\\n",
       "0                 1         2023-11-24     CUST001    Male  34.0   \n",
       "1                 2         2023-02-27     CUST002  Female  26.0   \n",
       "2                 3         2023-01-13     CUST003    Male  50.0   \n",
       "3                 4  December 25, 2023     CUST004    Male  37.0   \n",
       "4                 5         2023-05-06     CUST005    Male  30.0   \n",
       "..              ...                ...         ...     ...   ...   \n",
       "995             996         2023-05-16     CUST996    Male  62.0   \n",
       "996             997         2023-11-17     CUST997    Male  52.0   \n",
       "997             998         2023-10-29     CUST998  Female  23.0   \n",
       "998             999         2023-12-05     CUST999  Female  36.0   \n",
       "999            1000         2023-04-12    CUST1000    Male  47.0   \n",
       "\n",
       "    Product Category  Quantity  Price  Total  \n",
       "0             Beauty       3.0   50.0    150  \n",
       "1           Clothing       2.0  500.0   1000  \n",
       "2        Electronics       1.0   30.0     30  \n",
       "3           Clothing       1.0  500.0    500  \n",
       "4             Beauty       2.0   50.0    100  \n",
       "..               ...       ...    ...    ...  \n",
       "995         Clothing       1.0   50.0     50  \n",
       "996           Beauty       3.0   30.0     90  \n",
       "997           Beauty       4.0   25.0    100  \n",
       "998      Electronics       3.0   50.0    150  \n",
       "999      Electronics       4.0   30.0    120  \n",
       "\n",
       "[993 rows x 9 columns]"
      ]
     },
     "execution_count": 24,
     "metadata": {},
     "output_type": "execute_result"
    }
   ],
   "source": [
    "dfnew"
   ]
  },
  {
   "cell_type": "code",
   "execution_count": 25,
   "id": "38cb5a73-b554-42ba-9ad3-ab13b3fe26b4",
   "metadata": {},
   "outputs": [
    {
     "data": {
      "text/html": [
       "<div>\n",
       "<style scoped>\n",
       "    .dataframe tbody tr th:only-of-type {\n",
       "        vertical-align: middle;\n",
       "    }\n",
       "\n",
       "    .dataframe tbody tr th {\n",
       "        vertical-align: top;\n",
       "    }\n",
       "\n",
       "    .dataframe thead th {\n",
       "        text-align: right;\n",
       "    }\n",
       "</style>\n",
       "<table border=\"1\" class=\"dataframe\">\n",
       "  <thead>\n",
       "    <tr style=\"text-align: right;\">\n",
       "      <th></th>\n",
       "      <th>Transaction ID</th>\n",
       "      <th>OrderDate</th>\n",
       "      <th>Customer ID</th>\n",
       "      <th>Gender</th>\n",
       "      <th>Age</th>\n",
       "      <th>Product Category</th>\n",
       "      <th>Quantity</th>\n",
       "      <th>Price</th>\n",
       "      <th>Total</th>\n",
       "    </tr>\n",
       "  </thead>\n",
       "  <tbody>\n",
       "    <tr>\n",
       "      <th>0</th>\n",
       "      <td>1</td>\n",
       "      <td>2023-11-24</td>\n",
       "      <td>CUST001</td>\n",
       "      <td>Male</td>\n",
       "      <td>34.0</td>\n",
       "      <td>Beauty</td>\n",
       "      <td>3.0</td>\n",
       "      <td>50.0</td>\n",
       "      <td>150</td>\n",
       "    </tr>\n",
       "    <tr>\n",
       "      <th>1</th>\n",
       "      <td>2</td>\n",
       "      <td>2023-02-27</td>\n",
       "      <td>CUST002</td>\n",
       "      <td>Female</td>\n",
       "      <td>26.0</td>\n",
       "      <td>Clothing</td>\n",
       "      <td>2.0</td>\n",
       "      <td>500.0</td>\n",
       "      <td>1000</td>\n",
       "    </tr>\n",
       "    <tr>\n",
       "      <th>2</th>\n",
       "      <td>3</td>\n",
       "      <td>2023-01-13</td>\n",
       "      <td>CUST003</td>\n",
       "      <td>Male</td>\n",
       "      <td>50.0</td>\n",
       "      <td>Electronics</td>\n",
       "      <td>1.0</td>\n",
       "      <td>30.0</td>\n",
       "      <td>30</td>\n",
       "    </tr>\n",
       "    <tr>\n",
       "      <th>3</th>\n",
       "      <td>4</td>\n",
       "      <td>December 25, 2023</td>\n",
       "      <td>CUST004</td>\n",
       "      <td>Male</td>\n",
       "      <td>37.0</td>\n",
       "      <td>Clothing</td>\n",
       "      <td>1.0</td>\n",
       "      <td>500.0</td>\n",
       "      <td>500</td>\n",
       "    </tr>\n",
       "    <tr>\n",
       "      <th>4</th>\n",
       "      <td>5</td>\n",
       "      <td>2023-05-06</td>\n",
       "      <td>CUST005</td>\n",
       "      <td>Male</td>\n",
       "      <td>30.0</td>\n",
       "      <td>Beauty</td>\n",
       "      <td>2.0</td>\n",
       "      <td>50.0</td>\n",
       "      <td>100</td>\n",
       "    </tr>\n",
       "    <tr>\n",
       "      <th>...</th>\n",
       "      <td>...</td>\n",
       "      <td>...</td>\n",
       "      <td>...</td>\n",
       "      <td>...</td>\n",
       "      <td>...</td>\n",
       "      <td>...</td>\n",
       "      <td>...</td>\n",
       "      <td>...</td>\n",
       "      <td>...</td>\n",
       "    </tr>\n",
       "    <tr>\n",
       "      <th>995</th>\n",
       "      <td>996</td>\n",
       "      <td>2023-05-16</td>\n",
       "      <td>CUST996</td>\n",
       "      <td>Male</td>\n",
       "      <td>62.0</td>\n",
       "      <td>Clothing</td>\n",
       "      <td>1.0</td>\n",
       "      <td>50.0</td>\n",
       "      <td>50</td>\n",
       "    </tr>\n",
       "    <tr>\n",
       "      <th>996</th>\n",
       "      <td>997</td>\n",
       "      <td>2023-11-17</td>\n",
       "      <td>CUST997</td>\n",
       "      <td>Male</td>\n",
       "      <td>52.0</td>\n",
       "      <td>Beauty</td>\n",
       "      <td>3.0</td>\n",
       "      <td>30.0</td>\n",
       "      <td>90</td>\n",
       "    </tr>\n",
       "    <tr>\n",
       "      <th>997</th>\n",
       "      <td>998</td>\n",
       "      <td>2023-10-29</td>\n",
       "      <td>CUST998</td>\n",
       "      <td>Female</td>\n",
       "      <td>23.0</td>\n",
       "      <td>Beauty</td>\n",
       "      <td>4.0</td>\n",
       "      <td>25.0</td>\n",
       "      <td>100</td>\n",
       "    </tr>\n",
       "    <tr>\n",
       "      <th>998</th>\n",
       "      <td>999</td>\n",
       "      <td>2023-12-05</td>\n",
       "      <td>CUST999</td>\n",
       "      <td>Female</td>\n",
       "      <td>36.0</td>\n",
       "      <td>Electronics</td>\n",
       "      <td>3.0</td>\n",
       "      <td>50.0</td>\n",
       "      <td>150</td>\n",
       "    </tr>\n",
       "    <tr>\n",
       "      <th>999</th>\n",
       "      <td>1000</td>\n",
       "      <td>2023-04-12</td>\n",
       "      <td>CUST1000</td>\n",
       "      <td>Male</td>\n",
       "      <td>47.0</td>\n",
       "      <td>Electronics</td>\n",
       "      <td>4.0</td>\n",
       "      <td>30.0</td>\n",
       "      <td>120</td>\n",
       "    </tr>\n",
       "  </tbody>\n",
       "</table>\n",
       "<p>1000 rows × 9 columns</p>\n",
       "</div>"
      ],
      "text/plain": [
       "     Transaction ID          OrderDate Customer ID  Gender   Age  \\\n",
       "0                 1         2023-11-24     CUST001    Male  34.0   \n",
       "1                 2         2023-02-27     CUST002  Female  26.0   \n",
       "2                 3         2023-01-13     CUST003    Male  50.0   \n",
       "3                 4  December 25, 2023     CUST004    Male  37.0   \n",
       "4                 5         2023-05-06     CUST005    Male  30.0   \n",
       "..              ...                ...         ...     ...   ...   \n",
       "995             996         2023-05-16     CUST996    Male  62.0   \n",
       "996             997         2023-11-17     CUST997    Male  52.0   \n",
       "997             998         2023-10-29     CUST998  Female  23.0   \n",
       "998             999         2023-12-05     CUST999  Female  36.0   \n",
       "999            1000         2023-04-12    CUST1000    Male  47.0   \n",
       "\n",
       "    Product Category  Quantity  Price  Total  \n",
       "0             Beauty       3.0   50.0    150  \n",
       "1           Clothing       2.0  500.0   1000  \n",
       "2        Electronics       1.0   30.0     30  \n",
       "3           Clothing       1.0  500.0    500  \n",
       "4             Beauty       2.0   50.0    100  \n",
       "..               ...       ...    ...    ...  \n",
       "995         Clothing       1.0   50.0     50  \n",
       "996           Beauty       3.0   30.0     90  \n",
       "997           Beauty       4.0   25.0    100  \n",
       "998      Electronics       3.0   50.0    150  \n",
       "999      Electronics       4.0   30.0    120  \n",
       "\n",
       "[1000 rows x 9 columns]"
      ]
     },
     "execution_count": 25,
     "metadata": {},
     "output_type": "execute_result"
    }
   ],
   "source": [
    "df"
   ]
  },
  {
   "cell_type": "raw",
   "id": "5f5f73c0-364d-4374-8e01-917c74680f03",
   "metadata": {},
   "source": [
    "Standardizing the columns"
   ]
  },
  {
   "cell_type": "code",
   "execution_count": 26,
   "id": "f66a85ee-17c1-4236-8803-b7a2532ac043",
   "metadata": {},
   "outputs": [
    {
     "name": "stdout",
     "output_type": "stream",
     "text": [
      "Transaction ID        int64\n",
      "OrderDate            object\n",
      "Customer ID          object\n",
      "Gender               object\n",
      "Age                 float64\n",
      "Product Category     object\n",
      "Quantity            float64\n",
      "Price               float64\n",
      "Total                 int64\n",
      "dtype: object\n"
     ]
    }
   ],
   "source": [
    "print(dfnew.dtypes)"
   ]
  },
  {
   "cell_type": "code",
   "execution_count": 27,
   "id": "711f3a9f-04ab-47e2-8811-ee2cb103f2b0",
   "metadata": {},
   "outputs": [],
   "source": [
    "dfnew.loc[:, 'OrderDate'] = pd.to_datetime(dfnew['OrderDate'], errors='coerce')\n",
    "dfnew.loc[:, 'Quantity'] = dfnew['Quantity'].astype(int)\n",
    "dfnew.loc[:, 'Customer ID'] = dfnew['Customer ID'].astype('category')\n",
    "dfnew.loc[:, 'Gender'] = dfnew['Gender'].astype('category')"
   ]
  },
  {
   "cell_type": "code",
   "execution_count": 28,
   "id": "840bb802-cf3b-41d8-83ea-e4900a5ba845",
   "metadata": {},
   "outputs": [
    {
     "name": "stdout",
     "output_type": "stream",
     "text": [
      "Transaction ID        int64\n",
      "OrderDate            object\n",
      "Customer ID          object\n",
      "Gender               object\n",
      "Age                 float64\n",
      "Product Category     object\n",
      "Quantity            float64\n",
      "Price               float64\n",
      "Total                 int64\n",
      "dtype: object\n"
     ]
    }
   ],
   "source": [
    "print(dfnew.dtypes)"
   ]
  },
  {
   "cell_type": "code",
   "execution_count": 29,
   "id": "588e7e54-533a-4e6d-aed9-4677683e9f32",
   "metadata": {},
   "outputs": [],
   "source": [
    "dfnew.columns = dfnew.columns.str.strip()           # Remove extra spaces\n",
    "dfnew.columns = dfnew.columns.str.lower()           # Convert to lowercase\n",
    "dfnew.columns = dfnew.columns.str.replace(' ', '_')"
   ]
  },
  {
   "cell_type": "code",
   "execution_count": 30,
   "id": "493b9e90-22fe-4f35-8fad-e8521909e384",
   "metadata": {},
   "outputs": [
    {
     "data": {
      "text/plain": [
       "Index(['transaction_id', 'orderdate', 'customer_id', 'gender', 'age',\n",
       "       'product_category', 'quantity', 'price', 'total'],\n",
       "      dtype='object')"
      ]
     },
     "execution_count": 30,
     "metadata": {},
     "output_type": "execute_result"
    }
   ],
   "source": [
    "dfnew.columns"
   ]
  },
  {
   "cell_type": "code",
   "execution_count": 31,
   "id": "774cb5c1-0b23-4151-a023-b5e81593761d",
   "metadata": {},
   "outputs": [],
   "source": [
    "dfnew=dfnew.rename(columns={'orderdate':'order_date'})"
   ]
  },
  {
   "cell_type": "code",
   "execution_count": 32,
   "id": "abb856b0-1bcd-4cae-9a8a-d3da3ed12eaf",
   "metadata": {},
   "outputs": [
    {
     "data": {
      "text/plain": [
       "Index(['transaction_id', 'order_date', 'customer_id', 'gender', 'age',\n",
       "       'product_category', 'quantity', 'price', 'total'],\n",
       "      dtype='object')"
      ]
     },
     "execution_count": 32,
     "metadata": {},
     "output_type": "execute_result"
    }
   ],
   "source": [
    "dfnew.columns"
   ]
  },
  {
   "cell_type": "code",
   "execution_count": 33,
   "id": "0e373c3b-2621-4f97-bc20-4c239a5d10ae",
   "metadata": {},
   "outputs": [
    {
     "data": {
      "text/html": [
       "<div>\n",
       "<style scoped>\n",
       "    .dataframe tbody tr th:only-of-type {\n",
       "        vertical-align: middle;\n",
       "    }\n",
       "\n",
       "    .dataframe tbody tr th {\n",
       "        vertical-align: top;\n",
       "    }\n",
       "\n",
       "    .dataframe thead th {\n",
       "        text-align: right;\n",
       "    }\n",
       "</style>\n",
       "<table border=\"1\" class=\"dataframe\">\n",
       "  <thead>\n",
       "    <tr style=\"text-align: right;\">\n",
       "      <th></th>\n",
       "      <th>transaction_id</th>\n",
       "      <th>age</th>\n",
       "      <th>quantity</th>\n",
       "      <th>price</th>\n",
       "      <th>total</th>\n",
       "    </tr>\n",
       "  </thead>\n",
       "  <tbody>\n",
       "    <tr>\n",
       "      <th>count</th>\n",
       "      <td>993.000000</td>\n",
       "      <td>993.000000</td>\n",
       "      <td>993.000000</td>\n",
       "      <td>993.000000</td>\n",
       "      <td>993.000000</td>\n",
       "    </tr>\n",
       "    <tr>\n",
       "      <th>mean</th>\n",
       "      <td>500.731118</td>\n",
       "      <td>41.138973</td>\n",
       "      <td>2.520645</td>\n",
       "      <td>176.883182</td>\n",
       "      <td>457.069486</td>\n",
       "    </tr>\n",
       "    <tr>\n",
       "      <th>std</th>\n",
       "      <td>288.674179</td>\n",
       "      <td>12.969910</td>\n",
       "      <td>1.120658</td>\n",
       "      <td>188.454769</td>\n",
       "      <td>561.177587</td>\n",
       "    </tr>\n",
       "    <tr>\n",
       "      <th>min</th>\n",
       "      <td>1.000000</td>\n",
       "      <td>18.000000</td>\n",
       "      <td>1.000000</td>\n",
       "      <td>25.000000</td>\n",
       "      <td>25.000000</td>\n",
       "    </tr>\n",
       "    <tr>\n",
       "      <th>25%</th>\n",
       "      <td>252.000000</td>\n",
       "      <td>30.000000</td>\n",
       "      <td>2.000000</td>\n",
       "      <td>30.000000</td>\n",
       "      <td>60.000000</td>\n",
       "    </tr>\n",
       "    <tr>\n",
       "      <th>50%</th>\n",
       "      <td>500.000000</td>\n",
       "      <td>42.000000</td>\n",
       "      <td>3.000000</td>\n",
       "      <td>50.000000</td>\n",
       "      <td>150.000000</td>\n",
       "    </tr>\n",
       "    <tr>\n",
       "      <th>75%</th>\n",
       "      <td>751.000000</td>\n",
       "      <td>52.000000</td>\n",
       "      <td>4.000000</td>\n",
       "      <td>300.000000</td>\n",
       "      <td>900.000000</td>\n",
       "    </tr>\n",
       "    <tr>\n",
       "      <th>max</th>\n",
       "      <td>1000.000000</td>\n",
       "      <td>64.000000</td>\n",
       "      <td>4.000000</td>\n",
       "      <td>500.000000</td>\n",
       "      <td>2000.000000</td>\n",
       "    </tr>\n",
       "  </tbody>\n",
       "</table>\n",
       "</div>"
      ],
      "text/plain": [
       "       transaction_id         age    quantity       price        total\n",
       "count      993.000000  993.000000  993.000000  993.000000   993.000000\n",
       "mean       500.731118   41.138973    2.520645  176.883182   457.069486\n",
       "std        288.674179   12.969910    1.120658  188.454769   561.177587\n",
       "min          1.000000   18.000000    1.000000   25.000000    25.000000\n",
       "25%        252.000000   30.000000    2.000000   30.000000    60.000000\n",
       "50%        500.000000   42.000000    3.000000   50.000000   150.000000\n",
       "75%        751.000000   52.000000    4.000000  300.000000   900.000000\n",
       "max       1000.000000   64.000000    4.000000  500.000000  2000.000000"
      ]
     },
     "execution_count": 33,
     "metadata": {},
     "output_type": "execute_result"
    }
   ],
   "source": [
    "\n",
    "dfnew.describe()\n"
   ]
  },
  {
   "cell_type": "code",
   "execution_count": 34,
   "id": "7a324dae-665f-4834-8378-d7ff0239103d",
   "metadata": {},
   "outputs": [],
   "source": [
    "dfnew.to_excel('cleaned_retail_data.xlsx', index=False)"
   ]
  },
  {
   "cell_type": "code",
   "execution_count": null,
   "id": "aa5f7c9b-351a-4b50-9143-a8738654bd3a",
   "metadata": {},
   "outputs": [],
   "source": []
  }
 ],
 "metadata": {
  "kernelspec": {
   "display_name": "Python 3 (ipykernel)",
   "language": "python",
   "name": "python3"
  },
  "language_info": {
   "codemirror_mode": {
    "name": "ipython",
    "version": 3
   },
   "file_extension": ".py",
   "mimetype": "text/x-python",
   "name": "python",
   "nbconvert_exporter": "python",
   "pygments_lexer": "ipython3",
   "version": "3.12.2"
  }
 },
 "nbformat": 4,
 "nbformat_minor": 5
}
